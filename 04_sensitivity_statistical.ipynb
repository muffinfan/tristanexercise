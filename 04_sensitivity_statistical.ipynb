{
 "cells": [
  {
   "cell_type": "markdown",
   "metadata": {},
   "source": [
    "# Statistical sensitivity\n",
    "\n",
    "#### Literature\n",
    "See:  \n",
    "S. Mertens et al  \n",
    "Sensitivity of next-generation tritium beta-decay experiments for keV-scale sterile neutrinos  \n",
    "JCAP02(2015)020  \n",
    "https://iopscience.iop.org/article/10.1088/1475-7516/2015/02/020  "
   ]
  },
  {
   "cell_type": "code",
   "execution_count": null,
   "metadata": {
    "tags": []
   },
   "outputs": [],
   "source": [
    "import numpy as np\n",
    "import plotInterface as pi; pi.init()\n",
    "import matplotlib.pyplot as plt\n",
    "import matplotlib.colors as colors\n",
    "from scipy.optimize import curve_fit\n",
    "import scipy.stats as stats\n",
    "from spectrum import *\n",
    "from fastprogress.fastprogress import master_bar, progress_bar"
   ]
  },
  {
   "cell_type": "markdown",
   "metadata": {},
   "source": [
    "### Calculate number of events"
   ]
  },
  {
   "cell_type": "code",
   "execution_count": null,
   "metadata": {
    "tags": []
   },
   "outputs": [],
   "source": [
    "# Statistics\n",
    "measTime = 3*365*24*60*60   # 3 years\n",
    "rate     = 3e8              # total rate at detector\n",
    "nEvents  = rate*measTime    # expected dataset size ~10^16\n",
    "\n",
    "# Binning\n",
    "nBins       = 100\n",
    "eBinEdges   = np.linspace(0,18600,nBins+1)\n",
    "eBinCenters = (eBinEdges[:-1]+eBinEdges[1:])/2\n",
    "\n",
    "print(f'Number of events: {nEvents:e}')"
   ]
  },
  {
   "cell_type": "markdown",
   "metadata": {},
   "source": [
    "### The model: Tritium spectrum integrated over bins (no systematics)"
   ]
  },
  {
   "cell_type": "code",
   "execution_count": null,
   "metadata": {
    "tags": []
   },
   "outputs": [],
   "source": [
    "def model(energyBinEdges, amplitude, mSterile=0, sin2theta=0):\n",
    "    \n",
    "    # define function for bin integration\n",
    "    spec = lambda e: diffspec_mixed(e, mSterile=mSterile, sin2theta=sin2theta)\n",
    "    \n",
    "    # integrate over bins\n",
    "    binnedSpec = integrate_over_bins(spec,energyBinEdges)\n",
    "    \n",
    "    # normalize to amplitude\n",
    "    binnedSpec = amplitude*binnedSpec/binnedSpec.sum()\n",
    "    \n",
    "    return binnedSpec"
   ]
  },
  {
   "cell_type": "code",
   "execution_count": null,
   "metadata": {
    "tags": []
   },
   "outputs": [],
   "source": [
    "# evaluate model once\n",
    "yData = model(eBinEdges, nEvents)\n",
    "\n",
    "# plot as step histogram\n",
    "plt.step(eBinCenters,yData)\n",
    "plt.step(eBinCenters,model(eBinEdges, nEvents, 10000, 0.3))\n",
    "\n",
    "pi.plotty()"
   ]
  },
  {
   "cell_type": "markdown",
   "metadata": {},
   "source": [
    "### Covariance matrix\n",
    "\n",
    "* Poissonian statistical uncertainty for bin $i$: $\\sigma_i=\\sqrt{N_i}$\n",
    "* No correlation between bins for statistical error -> $\\sigma_i$ sit on diagonal of covariance matrix"
   ]
  },
  {
   "cell_type": "code",
   "execution_count": null,
   "metadata": {
    "tags": []
   },
   "outputs": [],
   "source": [
    "# calculate covariance matrix for statistical error\n",
    "covStat = np.ones((nBins,nBins)) # initialize with ones to ensure inversibility\n",
    "for i in range(nBins):\n",
    "    covStat[i][i] = yData[i]\n",
    "\n",
    "# for convenience also 1d error array for satstistics\n",
    "yErr = np.sqrt(yData)\n",
    "\n",
    "# invert covariance matrix\n",
    "covInvStat = np.linalg.inv(covStat)\n",
    "\n",
    "# show matrix\n",
    "plt.imshow(covStat)\n",
    "plt.colorbar()\n",
    "plt.show()"
   ]
  },
  {
   "cell_type": "markdown",
   "metadata": {},
   "source": [
    "### Calculate a chisquare value\n",
    "For one particular mass and mixing amplitude "
   ]
  },
  {
   "cell_type": "code",
   "execution_count": null,
   "metadata": {},
   "outputs": [],
   "source": [
    "ms  = 10e3\n",
    "s2t = 2e-7\n",
    "\n",
    "# evealuate model for fixed parameters\n",
    "yModel = model(eBinEdges, nEvents, mSterile=ms, sin2theta=s2t)\n",
    "\n",
    "# define local fit model function where normalisation can be varied\n",
    "def fitmodel(x,norm):\n",
    "    return norm*yModel\n",
    "\n",
    "# fit the normalisation\n",
    "par, cov = curve_fit(fitmodel,eBinCenters,yData,sigma=yErr,p0=[1.0])\n",
    "\n",
    "# evaluate fitmodel for fitted normalisation\n",
    "yFit = fitmodel(eBinCenters,*par)\n",
    "\n",
    "# calculate chisquare\n",
    "yResidual = yData - yFit        \n",
    "chisquareStat= yResidual@covInvStat@yResidual\n",
    "\n",
    "# plot for demonstration\n",
    "fig,ax = plt.subplots(2,1,sharex=True,height_ratios=[2, 1])\n",
    "\n",
    "# plot spectra\n",
    "ax[0].step(eBinCenters,yData, label='Data proxy (no sterile)')\n",
    "ax[0].step(eBinCenters,yFit,  \n",
    "           label=fr'Fit model with hypothesis $m_s={ms/1000:.0f}\\,\\mathrm{{keV}}, \\sin^\\theta={s2t:.0e}$')\n",
    "\n",
    "# plot normalized residuals\n",
    "ax[1].plot(eBinCenters,yResidual/yErr,'.',color='k')\n",
    "ax[1].axhspan(-1,1,color='0.9',label='$1\\sigma$ Interval')\n",
    "\n",
    "pi.plotty(axes=ax, size=[8,6], legend=True, fontsizeLegend=10, title=[fr'$\\chi^2={chisquareStat:.2f}$',None],\n",
    "          ylabel=['event counts','norm.\\nresiduals'], xlabel=[None,'energy(eV)'])"
   ]
  },
  {
   "cell_type": "markdown",
   "metadata": {},
   "source": [
    "### Define grid over masses and mixing amplitudes"
   ]
  },
  {
   "cell_type": "code",
   "execution_count": null,
   "metadata": {
    "scrolled": false
   },
   "outputs": [],
   "source": [
    "# define grid over mixing angles and sterile masses\n",
    "mixings = np.logspace(-5,-8,10)\n",
    "masses  = np.linspace(eBinEdges[0],eBinEdges[-1],20)\n",
    "\n",
    "plt.plot(*np.meshgrid(masses/1000,mixings), marker='x', ms=5, color=\"C3\", ls='None')\n",
    "pi.plotty(xlabel=r'$m_\\mathrm{s}$ (keV)', ylabel=r'$\\sin^2\\theta$',log='y',ylim=[mixings[-1]/2,mixings[0]*2])"
   ]
  },
  {
   "cell_type": "markdown",
   "metadata": {},
   "source": [
    "### Calculate chisquare for each grid point"
   ]
  },
  {
   "cell_type": "code",
   "execution_count": null,
   "metadata": {
    "tags": []
   },
   "outputs": [],
   "source": [
    "# invert covariance matrix\n",
    "covInvStat = np.linalg.inv(covStat)\n",
    "\n",
    "# calculate chisquare over grid\n",
    "chisquareStat = np.zeros((len(mixings),len(masses)))\n",
    "\n",
    "# set up nested progress bar\n",
    "mb = master_bar(range(len(masses)),total_time=True)\n",
    "mb.main_bar.comment = 'ms'\n",
    "pb = progress_bar(range(len(mixings)), parent=mb)\n",
    "mb.child.comment = 's2t'\n",
    "\n",
    "for i in mb:\n",
    "    for j in pb:\n",
    "        ms  = masses[i]\n",
    "        s2t = mixings[j]\n",
    "        \n",
    "        # evealuate model for fixed parameters\n",
    "        yModel = model(eBinEdges, nEvents, mSterile=ms, sin2theta=s2t)\n",
    "        \n",
    "        # define local fit model function where normalisation can be varied\n",
    "        def fitmodel(x,norm):    \n",
    "            return norm*yModel\n",
    "        \n",
    "        # fit the normalisation\n",
    "        par, cov = curve_fit(fitmodel,eBinCenters,yData,sigma=yErr,p0=[1.0])\n",
    "        \n",
    "        # evaluate fitmodel for fitted normalisation\n",
    "        yFit = fitmodel(eBinCenters,*par)\n",
    "        \n",
    "        # calculate chisquare\n",
    "        yResidual = yData - yFit        \n",
    "        chisquareStat[j][i] = yResidual@covInvStat@yResidual"
   ]
  },
  {
   "cell_type": "code",
   "execution_count": null,
   "metadata": {
    "scrolled": false
   },
   "outputs": [],
   "source": [
    "fig,ax=plt.subplots(1,1)\n",
    "\n",
    "# plot as chisquare as color mesh \n",
    "im = plt.pcolormesh(masses/1000, mixings, chisquareStat, norm=colors.SymLogNorm(2,base=10), shading='nearest')\n",
    "# try: shading='nearest' actual values at the grid points\n",
    "#      shading='gouraud' for interpolation\n",
    "\n",
    "# add a colorbar\n",
    "cbar = plt.colorbar(im, pad=0.03)\n",
    "cbar.set_label(r'$\\chi^2$',fontsize=16, rotation=0, labelpad=10)\n",
    "\n",
    "# draw grid points\n",
    "plt.plot(*np.meshgrid(masses/1000,mixings), marker='x', ms=5, color=\"C3\", ls='None')\n",
    "\n",
    "# show plot with labels\n",
    "pi.plotty(axes=[ax], xlabel=r'$m_\\mathrm{s}$ (keV)', ylabel=r'$\\sin^2\\theta$',log='y')"
   ]
  },
  {
   "cell_type": "markdown",
   "metadata": {},
   "source": [
    "### Critical chisquare value"
   ]
  },
  {
   "cell_type": "code",
   "execution_count": null,
   "metadata": {
    "scrolled": false,
    "tags": []
   },
   "outputs": [],
   "source": [
    "#degrees of freedom, here: 2 (mass and mixing amplitude)\n",
    "dof = 2\n",
    "# confidence level 95%\n",
    "CL  = 0.95\n",
    "\n",
    "# critical chisquare value\n",
    "chiSquareCrit = stats.chi2.ppf(CL, df=dof)\n",
    "print(f'Critical value for {CL*100:.0f}% confidence: {chiSquareCrit}')\n",
    "plt.axvline(chiSquareCrit, color='C3', label=fr'$\\chi_\\mathrm{{crit}}^2={chiSquareCrit:.2f}$')\n",
    "\n",
    "# plot chisSqure distribution\n",
    "x = np.linspace(0,10,1000)\n",
    "y = stats.chi2.pdf(x, df=dof)\n",
    "plt.plot(x,y)\n",
    "\n",
    "# plot region\n",
    "mask = x<=chiSquareCrit\n",
    "plt.fill_between(x[mask], y[mask],alpha=0.5, label=f'integral = {CL*100:.0f}%')\n",
    "\n",
    "pi.plotty(ylim=[0,None],xlim=[0,x[-1]], legend=True)"
   ]
  },
  {
   "cell_type": "markdown",
   "metadata": {},
   "source": [
    "### Exclusion / Sensitivity plot"
   ]
  },
  {
   "cell_type": "code",
   "execution_count": null,
   "metadata": {
    "tags": []
   },
   "outputs": [],
   "source": [
    "fig,ax=plt.subplots(1,1)\n",
    "\n",
    "# plot as chisquare as color mesh and a colorbar\n",
    "im = plt.pcolormesh(masses/1000, mixings, chisquareStat, norm=colors.SymLogNorm(2,base=10), shading='gouraud')\n",
    "cbar = plt.colorbar(im, pad=0.03)\n",
    "cbar.set_label(r'$\\chi^2$',fontsize=16, rotation=0, labelpad=10)\n",
    "cbar.ax.plot([0, 1], [chiSquareCrit]*2, 'r',lw=3)\n",
    "cbar.ax.text(1.2, chiSquareCrit*0.85, f'{chiSquareCrit:.2f}',color='r')\n",
    "\n",
    "\n",
    "# plot 90% exclusion contour\n",
    "ax.contour(masses/1000, mixings, chisquareStat, \n",
    "            levels=[chiSquareCrit], colors='r', linewidths=3)\n",
    "\n",
    "# show plot with labels\n",
    "pi.plotty(axes=[ax], xlabel=r'$m_\\mathrm{s}$ (keV)', ylabel=r'$\\sin^2\\theta$',log='y')"
   ]
  }
 ],
 "metadata": {
  "kernelspec": {
   "display_name": "Python 3 (ipykernel)",
   "language": "python",
   "name": "python3"
  },
  "language_info": {
   "codemirror_mode": {
    "name": "ipython",
    "version": 3
   },
   "file_extension": ".py",
   "mimetype": "text/x-python",
   "name": "python",
   "nbconvert_exporter": "python",
   "pygments_lexer": "ipython3",
   "version": "3.8.10"
  }
 },
 "nbformat": 4,
 "nbformat_minor": 4
}
