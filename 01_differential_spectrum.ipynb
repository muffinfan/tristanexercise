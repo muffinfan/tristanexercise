{
 "cells": [
  {
   "cell_type": "markdown",
   "metadata": {
    "tags": []
   },
   "source": [
    "# Differential tritium spectrum\n",
    "\n",
    "#### Literature\n",
    "See:  \n",
    "Kleesiek, M., Behrens, J., Drexlin, G. et al.  \n",
    "β-Decay spectrum, response function and statistical model for neutrino mass measurements with the KATRIN experiment.   \n",
    "Eur. Phys. J. C 79, 204 (2019).   \n",
    "https://doi.org/10.1140/epjc/s10052-019-6686-7\n",
    "\n",
    "\n",
    "#### Exercises\n",
    "* Take a look at the reference above\n",
    "\n",
    "* Complete the code for the functions\n",
    "    * fermi(): Fermi correction for beta decay\n",
    "    * diffspec_base(): Differential tritium beta spectrum with 1 neutrino (you can leave out multiplicative constants)\n",
    "    * diffspec_mixed(): Spectrum including two neutrinos (active + sterile)\n",
    "\n",
    "* Plot the mixed spectrum for several combinations of $m_s$ and $\\sin^2\\theta$ to get a feel for how it behaves\n",
    "\n",
    "\n",
    "#### General Jupyter Tips:\n",
    "* Ctrl+Enter: Execute cell\n",
    "* Shift+Enter: Execute cell and go to next cell\n",
    "* ii: Interrupt cell execution\n",
    "* 00: Restart Kernel\n",
    "* If you don't know about some function, go into its bracket and press Shift+Tab for documentation"
   ]
  },
  {
   "cell_type": "code",
   "execution_count": 1,
   "metadata": {},
   "outputs": [],
   "source": [
    "import numpy as np\n",
    "import plotInterface as pi; pi.init()\n",
    "import matplotlib.pyplot as plt"
   ]
  },
  {
   "cell_type": "markdown",
   "metadata": {},
   "source": [
    "### Function definition"
   ]
  },
  {
   "cell_type": "code",
   "execution_count": 2,
   "metadata": {},
   "outputs": [],
   "source": [
    "#-------------------------------------------------------------------------------------------------\n",
    "# D.H. Wilkinson, Small terms in the beta-decay spectrum of tritium, Nucl. Phys. A 526 (1991) 131.\n",
    "# or https://iopscience.iop.org/article/10.1088/0034-4885/71/8/086201\n",
    "\n",
    "M_ELECTRON = 510998.95        # electron mass, eV\n",
    "ALPHA      = 7.2973525698e-3  # fine-structure constant\n",
    "ENDPOINT   = 18575            # endpoint energy, eV\n",
    "A_CONST    = 1.002037         # constant, see reference\n",
    "B_CONST    = 0.001427         # constant, see reference\n",
    "Z_DAUGHTER = 2                # daughter nucleus charge\n",
    "\n",
    "def fermi(ekin,Z=Z_DAUGHTER):\n",
    "    \"\"\" \n",
    "    Fermi function (unscreened coulomb field)\n",
    "    \n",
    "    Parameters:\n",
    "      Z    : Atomic charge of daughter nucleus\n",
    "      ekin : Kinetic energy of electron in eV (>0)\n",
    "    \n",
    "    Returns:\n",
    "      Fermi correction factor    \n",
    "    \"\"\"\n",
    "    \n",
    "    # total energy\n",
    "    etot = ekin + M_ELECTRON\n",
    "    \n",
    "    # relativistic beta\n",
    "    beta = np.sqrt(1 - (M_ELECTRON/(etot))**2)\n",
    "    \n",
    "    # Sommerfeld parameter eta\n",
    "    eta = ALPHA*Z/beta\n",
    "    \n",
    "    # non-relativistic fermi correction    \n",
    "    fermicorr = 2*np.pi*eta/(1-np.exp(-2*np.pi*eta))\n",
    "    \n",
    "    # relativistic approximation\n",
    "    fermicorr = fermicorr * (A_CONST-B_CONST*beta)\n",
    "    \n",
    "    return fermicorr\n",
    "\n",
    "\n",
    "def diffspec_base(ekin, mnu=0):\n",
    "    \n",
    "    '''\n",
    "    Differential tritium spectrum with \n",
    "    fermi correction (relativistic approximation).\n",
    "    \n",
    "      ekin : Kinectic energy of electron in eV\n",
    "      mnu  : Neutrino mass in eV \n",
    "    '''\n",
    "    \n",
    "    # convert types for convenience\n",
    "    if type(ekin)==float or type(ekin)==int:\n",
    "        ekin = np.array([ekin])\n",
    "    \n",
    "    # initialize output spectrum array\n",
    "    spec = np.zeros(len(ekin))\n",
    "    \n",
    "    # restrict to non-zero region\n",
    "    nz = (ekin>0) & (ekin<(ENDPOINT-mnu))\n",
    "    ekin = ekin[nz]\n",
    "    \n",
    "    # electron total energy\n",
    "    ee = (ekin+M_ELECTRON)\n",
    "    \n",
    "    # neutrino total energy\n",
    "    enu = ENDPOINT-ekin\n",
    "    \n",
    "    # electron momentum\n",
    "    pe = np.sqrt((ekin+M_ELECTRON)**2 - M_ELECTRON**2)\n",
    "    \n",
    "    # neutrino momentum\n",
    "    pnu = np.sqrt((ENDPOINT-ekin)**2-mnu**2)\n",
    "\n",
    "    # fermicorrection\n",
    "    fermicorr = fermi(ekin)\n",
    "\n",
    "    # the spectrum\n",
    "    spec[nz] = fermicorr*ee*enu*pe*pnu*np.heaviside(ekin,1)\n",
    "    \n",
    "    return spec\n",
    "\n",
    "\n",
    "def diffspec_mixed(ekin, mActive=0, mSterile=0, sin2theta=0):\n",
    "    '''\n",
    "    Differential tritium spectrum with \n",
    "    active and sterile component.\n",
    "    \n",
    "      ekin      : Kinectic energy of electron in eV\n",
    "      mActive   : Active neutrino mass in eV (usually 0) \n",
    "      mSterile  : Sterile neutrino mass in eV\n",
    "      sin2theta : Sterile mixing amplitude\n",
    "    '''\n",
    "    \n",
    "    # active neutrino shape\n",
    "    active = (1-sin2theta)*diffspec_base(ekin,mnu=mActive)\n",
    "    \n",
    "    # sterile neutrino shape\n",
    "    sterile = (sin2theta)*diffspec_base(ekin,mnu=mSterile)\n",
    "    \n",
    "    # sum according to mixing amplitude\n",
    "    spec = active + sterile\n",
    "    \n",
    "    return spec"
   ]
  },
  {
   "cell_type": "markdown",
   "metadata": {},
   "source": [
    "### Plotting"
   ]
  },
  {
   "cell_type": "code",
   "execution_count": 3,
   "metadata": {},
   "outputs": [
    {
     "data": {
      "image/png": "[encoded data removed]",
      "text/plain": [
       "<Figure size 576x360 with 1 Axes>"
      ]
     },
     "metadata": {},
     "output_type": "display_data"
    }
   ],
   "source": [
    "e = np.linspace(0,20000,1000)\n",
    "\n",
    "x = diffspec_base(e)\n",
    "y = diffspec_base(e,mnu=10000)*0.2\n",
    "z = diffspec_mixed(e,mActive=0,mSterile=10000,sin2theta=0.2)\n",
    "\n",
    "plt.plot(e,x, color='k', ls='dashed')\n",
    "plt.plot(e,y)\n",
    "plt.plot(e,z, color='r')\n",
    "\n",
    "# Helpful function for easy and nice looking plot\n",
    "# Can be used instead of plt.show().\n",
    "# Go into brackets and press Shift + Tab for options. \n",
    "pi.plotty()"
   ]
  }
 ],
 "metadata": {
  "kernelspec": {
   "display_name": "Python 3 (ipykernel)",
   "language": "python",
   "name": "python3"
  },
  "language_info": {
   "codemirror_mode": {
    "name": "ipython",
    "version": 3
   },
   "file_extension": ".py",
   "mimetype": "text/x-python",
   "name": "python",
   "nbconvert_exporter": "python",
   "pygments_lexer": "ipython3",
   "version": "3.8.10"
  }
 },
 "nbformat": 4,
 "nbformat_minor": 4
}
