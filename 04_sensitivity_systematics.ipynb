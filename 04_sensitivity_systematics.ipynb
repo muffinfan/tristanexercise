{
 "cells": [
  {
   "cell_type": "markdown",
   "metadata": {},
   "source": [
    "# Sensitivity with systematics\n",
    "\n",
    "#### Exercise\n",
    "* Implement a response in the model function\n",
    "* Calculate a covariance matrix for a variation of the systematic parameter\n",
    "* Use the covariance to calculate the sensitivity impact compared to the statistical sensitivity in a contour plot"
   ]
  },
  {
   "cell_type": "code",
   "execution_count": null,
   "metadata": {},
   "outputs": [],
   "source": [
    "import numpy as np\n",
    "import plotInterface as pi; pi.init()\n",
    "import matplotlib.pyplot as plt\n",
    "import matplotlib.colors as colors\n",
    "from scipy.optimize import curve_fit\n",
    "import scipy.stats as stats\n",
    "from fastprogress.fastprogress import master_bar, progress_bar\n",
    "\n",
    "from spectrum import *\n",
    "from binning import *\n",
    "from responses import *"
   ]
  },
  {
   "cell_type": "markdown",
   "metadata": {},
   "source": [
    "### Settings\n"
   ]
  },
  {
   "cell_type": "code",
   "execution_count": null,
   "metadata": {},
   "outputs": [],
   "source": [
    "# Statistics\n",
    "measTime = 3*365*24*60*60   # 3 years\n",
    "rate     = 3e8              # total rate at detector\n",
    "nEvents  = rate*measTime    # expected dataset size ~10^16\n",
    "\n",
    "# Binning\n",
    "nBins       = 200\n",
    "eBinEdges   = np.linspace(0,40000,nBins+1)\n",
    "eBinCenters = (eBinEdges[:-1]+eBinEdges[1:])/2\n",
    "eBins = binning.from_centers(eBinCenters)\n",
    "\n",
    "print(f'Number of events: {nEvents:e}')\n",
    "\n",
    "# Systematic parameter variation\n",
    "wcc_val = 20e-6\n",
    "wcc_err = wcc_val*0.10 # Assume 10% Uncertainty"
   ]
  },
  {
   "cell_type": "markdown",
   "metadata": {},
   "source": [
    "### The model"
   ]
  },
  {
   "cell_type": "code",
   "execution_count": null,
   "metadata": {},
   "outputs": [],
   "source": [
    "def model(eBins, amplitude, Epae=0, mSterile=0, sin2theta=0, wcc=wcc_val):\n",
    "    \n",
    "    # define function for bin integration\n",
    "    spec = lambda e: diffspec_mixed(e-Epae, mSterile=mSterile, sin2theta=sin2theta)\n",
    "    \n",
    "    # integrate over bins\n",
    "    binnedSpec = integrate_bins_fast(spec,eBins)\n",
    "    \n",
    "    # normalize to amplitude\n",
    "    binnedSpec = amplitude*binnedSpec/binnedSpec.sum()\n",
    "    \n",
    "    # get response\n",
    "    resp = calculate_cs_response(wcc,1e-3,1e-10,eBins,eBins)\n",
    "    \n",
    "    # apply response\n",
    "    binnedSpec = np.dot(resp.T,binnedSpec)\n",
    "    \n",
    "    return binnedSpec"
   ]
  },
  {
   "cell_type": "code",
   "execution_count": null,
   "metadata": {
    "scrolled": false
   },
   "outputs": [],
   "source": [
    "# evaluate model once\n",
    "yData = model(eBins, nEvents)\n",
    "\n",
    "# plot as step histogram\n",
    "plt.step(eBinCenters,yData)\n",
    "plt.step(eBinCenters,model(eBins, nEvents, 0, 10000, 0.3))\n",
    "\n",
    "pi.plotty()"
   ]
  },
  {
   "cell_type": "markdown",
   "metadata": {},
   "source": [
    "### Covariance statistical error"
   ]
  },
  {
   "cell_type": "code",
   "execution_count": null,
   "metadata": {},
   "outputs": [],
   "source": [
    "# calculate covairance matrix for statistical error\n",
    "covStat = np.ones((nBins,nBins)) # initialize with ones to ensure inversibility\n",
    "for i in range(nBins):\n",
    "    covStat[i][i] = yData[i]\n",
    "\n",
    "# for convenience also 1d error array for satstistics\n",
    "yErr = np.sqrt(yData)\n",
    "\n",
    "# show matrix\n",
    "plt.imshow(covStat)\n",
    "plt.colorbar()\n",
    "pi.plotty()"
   ]
  },
  {
   "cell_type": "markdown",
   "metadata": {},
   "source": [
    "### Covariance systematic error"
   ]
  },
  {
   "cell_type": "code",
   "execution_count": null,
   "metadata": {},
   "outputs": [],
   "source": [
    "nExp = 10000\n",
    "\n",
    "wccs = np.random.normal(wcc_val, wcc_err, size=nExp)\n",
    "\n",
    "contents, edges = np.histogram(wccs*1e6,bins=100)\n",
    "pi.plot_hist(edges,contents)\n",
    "pi.plotty(xlabel=r'charge cloud width wcc ($\\mu m$)')"
   ]
  },
  {
   "cell_type": "code",
   "execution_count": null,
   "metadata": {},
   "outputs": [],
   "source": [
    "# use less nExp to make it faster\n",
    "nExp = 100\n",
    "wccs = np.random.normal(wcc_val, wcc_err, size=nExp)\n",
    "\n",
    "# calculate many spectra, each with different value for systematic parameter\n",
    "mcData = np.zeros((nBins,nExp))\n",
    "for i in progress_bar(range(nExp)):\n",
    "    mcData[:,i] = model(eBins, nEvents, 0, 0, 0, wccs[i])\n",
    "\n",
    "plt.step(eBins.centers,mcData)\n",
    "pi.plotty()"
   ]
  },
  {
   "cell_type": "code",
   "execution_count": null,
   "metadata": {},
   "outputs": [],
   "source": [
    "# estimate covariance from MC spectra\n",
    "covSys = np.cov(mcData)\n",
    "\n",
    "# show matrix\n",
    "plt.imshow(covSys, norm=colors.SymLogNorm(1e22,base=10))\n",
    "plt.colorbar()\n",
    "pi.plotty()"
   ]
  },
  {
   "cell_type": "markdown",
   "metadata": {},
   "source": [
    "### Chisquare grid calculation "
   ]
  },
  {
   "cell_type": "code",
   "execution_count": null,
   "metadata": {},
   "outputs": [],
   "source": [
    "# define grid over mixing angles and sterile masses\n",
    "mixings = np.logspace(-5,-8,10)\n",
    "masses  = np.linspace(0,ENDPOINT,20)\n",
    "\n",
    "# invert covariance matrix\n",
    "covInvStat = np.linalg.inv(covStat)\n",
    "covInvSys  = np.linalg.inv(covStat+covSys)\n",
    "\n",
    "# calculate chisquare over grid\n",
    "chisquareStat = np.zeros((len(mixings),len(masses)))\n",
    "chisquareSys  = np.zeros((len(mixings),len(masses)))\n",
    "\n",
    "# set up nested progress bar\n",
    "mb = master_bar(range(len(masses)),total_time=True)\n",
    "mb.main_bar.comment = 'ms'\n",
    "pb = progress_bar(range(len(mixings)), parent=mb)\n",
    "mb.child.comment = 's2t'\n",
    "\n",
    "for i in mb:\n",
    "    for j in pb:\n",
    "        ms  = masses[i]\n",
    "        s2t = mixings[j]\n",
    "        \n",
    "        # evealuate model for fixed parameters\n",
    "        yModel = model(eBins, nEvents, mSterile=ms, sin2theta=s2t)\n",
    "        \n",
    "        # define local fit model function where normalisation can be varied\n",
    "        def fitmodel(x,norm):    \n",
    "            return norm*yModel\n",
    "        \n",
    "        # fit the normalisation\n",
    "        par, cov = curve_fit(fitmodel,eBinCenters,yData,sigma=yErr,p0=[1.0])\n",
    "        \n",
    "        # evaluate fitmodel for fitted normalisation\n",
    "        yFit = fitmodel(eBinCenters,*par)\n",
    "        \n",
    "        # calculate chisquare\n",
    "        yResidual = yData - yFit        \n",
    "        chisquareStat[j][i] = yResidual.dot(covInvStat.dot(yResidual))\n",
    "        chisquareSys[j][i]  = yResidual.dot(covInvSys.dot(yResidual))"
   ]
  },
  {
   "cell_type": "markdown",
   "metadata": {},
   "source": [
    "### Exclusion / Sensitivity plot"
   ]
  },
  {
   "cell_type": "code",
   "execution_count": null,
   "metadata": {},
   "outputs": [],
   "source": [
    "# critical chisquare value for 90% confidence for 2 parameters (here: mass, mixing)\n",
    "chiSquareCrit = stats.chi2.ppf(0.95, df=2)\n",
    "print(f'Critical value for 95% confidence: {chiSquareCrit}')\n",
    "\n",
    "# plot 90% exclusion contours\n",
    "plt.contour(masses/1000, mixings, chisquareSys, \n",
    "            levels=[chiSquareCrit], colors='r')\n",
    "plt.contour(masses/1000, mixings, chisquareStat, \n",
    "            levels=[chiSquareCrit], colors='k', linestyles='dashed',alpha=0.5)\n",
    "\n",
    "# show plot with labels\n",
    "pi.plotty(xlabel=r'$m_\\mathrm{s}$ (keV)', ylabel=r'$\\sin^2\\theta$',log='y')"
   ]
  },
  {
   "cell_type": "markdown",
   "metadata": {},
   "source": [
    "## With 10kV post acceleration"
   ]
  },
  {
   "cell_type": "code",
   "execution_count": null,
   "metadata": {},
   "outputs": [],
   "source": [
    "# evaluate model once\n",
    "yData = model(eBins, nEvents, Epae=10000)\n",
    "\n",
    "# plot as step histogram\n",
    "plt.step(eBinCenters,yData)\n",
    "plt.step(eBinCenters,model(eBins, nEvents, 10000, 10000, 0.3))\n",
    "\n",
    "pi.plotty()"
   ]
  },
  {
   "cell_type": "code",
   "execution_count": null,
   "metadata": {},
   "outputs": [],
   "source": [
    "# calculate covairance matrix for statistical error\n",
    "covStat = np.ones((nBins,nBins)) # initialize with ones to ensure inversibility\n",
    "for i in range(nBins):\n",
    "    covStat[i][i] = yData[i]\n",
    "\n",
    "# for convenience also 1d error array for satstistics\n",
    "yErr = np.sqrt(yData)\n",
    "\n",
    "# use less nExp to make it faster\n",
    "nExp = 100\n",
    "wccs = np.random.normal(wcc_val, wcc_err, size=nExp)\n",
    "\n",
    "# calculate many spectra, each with different value for systematic parameter\n",
    "mcData = np.zeros((nBins,nExp))\n",
    "for i in progress_bar(range(nExp)):\n",
    "    mcData[:,i] = model(eBins, nEvents, 10000, 0, 0, wccs[i])\n",
    "\n",
    "plt.step(eBins.centers,mcData)\n",
    "pi.plotty()\n",
    "\n",
    "# estimate covariance from MC spectra\n",
    "covSys = np.cov(mcData)"
   ]
  },
  {
   "cell_type": "code",
   "execution_count": null,
   "metadata": {},
   "outputs": [],
   "source": [
    "# define grid over mixing angles and sterile masses\n",
    "mixings = np.logspace(-5,-8,10)\n",
    "masses  = np.linspace(0,ENDPOINT,20)\n",
    "\n",
    "# invert covariance matrix\n",
    "covInvStat = np.linalg.inv(covStat)\n",
    "covInvSys  = np.linalg.inv(covStat+covSys)\n",
    "\n",
    "# calculate chisquare over grid\n",
    "chisquareStat = np.zeros((len(mixings),len(masses)))\n",
    "chisquareSys  = np.zeros((len(mixings),len(masses)))\n",
    "\n",
    "# set up nested progress bar\n",
    "mb = master_bar(range(len(masses)),total_time=True)\n",
    "mb.main_bar.comment = 'ms'\n",
    "pb = progress_bar(range(len(mixings)), parent=mb)\n",
    "mb.child.comment = 's2t'\n",
    "\n",
    "for i in mb:\n",
    "    for j in pb:\n",
    "        ms  = masses[i]\n",
    "        s2t = mixings[j]\n",
    "        \n",
    "        # evealuate model for fixed parameters\n",
    "        yModel = model(eBins, nEvents, mSterile=ms, sin2theta=s2t,Epae=10000)\n",
    "        \n",
    "        # define local fit model function where normalisation can be varied\n",
    "        def fitmodel(x,norm):    \n",
    "            return norm*yModel\n",
    "        \n",
    "        # fit the normalisation\n",
    "        par, cov = curve_fit(fitmodel,eBinCenters,yData,sigma=yErr,p0=[1.0])\n",
    "        \n",
    "        # evaluate fitmodel for fitted normalisation\n",
    "        yFit = fitmodel(eBinCenters,*par)\n",
    "        \n",
    "        # calculate chisquare\n",
    "        yResidual = yData - yFit        \n",
    "        chisquareStat[j][i] = yResidual.dot(covInvStat.dot(yResidual))\n",
    "        chisquareSys[j][i]  = yResidual.dot(covInvSys.dot(yResidual))"
   ]
  },
  {
   "cell_type": "code",
   "execution_count": null,
   "metadata": {},
   "outputs": [],
   "source": [
    "# critical chisquare value for 90% confidence for 2 parameters (here: mass, mixing)\n",
    "chiSquareCrit = stats.chi2.ppf(0.95, df=2)\n",
    "print(f'Critical value for 95% confidence: {chiSquareCrit}')\n",
    "\n",
    "# plot 90% exclusion contours\n",
    "plt.contour(masses/1000, mixings, chisquareSys, \n",
    "            levels=[chiSquareCrit], colors='r')\n",
    "plt.contour(masses/1000, mixings, chisquareStat, \n",
    "            levels=[chiSquareCrit], colors='k', linestyles='dashed',alpha=0.5)\n",
    "\n",
    "# show plot with labels\n",
    "pi.plotty(xlabel=r'$m_\\mathrm{s}$ (keV)', ylabel=r'$\\sin^2\\theta$',log='y')"
   ]
  }
 ],
 "metadata": {
  "kernelspec": {
   "display_name": "Python 3 (ipykernel)",
   "language": "python",
   "name": "python3"
  },
  "language_info": {
   "codemirror_mode": {
    "name": "ipython",
    "version": 3
   },
   "file_extension": ".py",
   "mimetype": "text/x-python",
   "name": "python",
   "nbconvert_exporter": "python",
   "pygments_lexer": "ipython3",
   "version": "3.8.10"
  }
 },
 "nbformat": 4,
 "nbformat_minor": 4
}
