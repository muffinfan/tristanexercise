{
 "cells": [
  {
   "cell_type": "code",
   "execution_count": null,
   "id": "9725b557",
   "metadata": {},
   "outputs": [],
   "source": [
    "import numpy as np\n",
    "import matplotlib.pyplot as plt\n",
    "import plotInterface as pi; pi.init()\n",
    "from scipy.stats import norm"
   ]
  },
  {
   "cell_type": "code",
   "execution_count": null,
   "id": "5725d6b6",
   "metadata": {},
   "outputs": [],
   "source": [
    "z = np.linspace(-2,2,400)\n",
    "kernel = norm(scale=0.3).pdf(z)\n",
    "kernel/=kernel.sum()\n",
    "\n",
    "plt.plot(z,kernel)\n",
    "\n",
    "pi.plotty(xlabel='shift of measured energy', ylabel='probability')"
   ]
  },
  {
   "cell_type": "code",
   "execution_count": null,
   "id": "92a9140d",
   "metadata": {},
   "outputs": [],
   "source": [
    "x = np.linspace(0,10,1000)\n",
    "f = np.zeros(x.shape)\n",
    "f[500] = 1\n",
    "\n",
    "g = np.convolve(kernel,f, mode='same')\n",
    "\n",
    "plt.plot(x,f)\n",
    "plt.plot(x,g/g.max())\n",
    "\n",
    "pi.plotty(xlabel='energy')"
   ]
  },
  {
   "cell_type": "code",
   "execution_count": null,
   "id": "53a1981b",
   "metadata": {},
   "outputs": [],
   "source": [
    "x = np.linspace(0,10,1000)\n",
    "f = np.zeros(x.shape)\n",
    "f[300:700] = 1\n",
    "\n",
    "g = np.convolve(kernel,f, mode='same')\n",
    "\n",
    "plt.plot(x,f)\n",
    "plt.plot(x,g)\n",
    "\n",
    "pi.plotty(xlabel='energy')"
   ]
  }
 ],
 "metadata": {
  "kernelspec": {
   "display_name": "Python 3 (ipykernel)",
   "language": "python",
   "name": "python3"
  },
  "language_info": {
   "codemirror_mode": {
    "name": "ipython",
    "version": 3
   },
   "file_extension": ".py",
   "mimetype": "text/x-python",
   "name": "python",
   "nbconvert_exporter": "python",
   "pygments_lexer": "ipython3",
   "version": "3.8.10"
  }
 },
 "nbformat": 4,
 "nbformat_minor": 5
}
