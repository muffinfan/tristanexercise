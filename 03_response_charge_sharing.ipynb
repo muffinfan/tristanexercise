{
 "cells": [
  {
   "cell_type": "markdown",
   "metadata": {},
   "source": [
    "# Using response matrices to simulate systematics"
   ]
  },
  {
   "cell_type": "code",
   "execution_count": null,
   "metadata": {},
   "outputs": [],
   "source": [
    "import numpy as np\n",
    "import plotInterface as pi; pi.init()\n",
    "import matplotlib.pyplot as plt\n",
    "import matplotlib.colors as colors\n",
    "\n",
    "from spectrum import *\n",
    "from binning import binning\n",
    "from responses import *"
   ]
  },
  {
   "cell_type": "markdown",
   "metadata": {},
   "source": [
    "### Define input spectrum"
   ]
  },
  {
   "cell_type": "code",
   "execution_count": null,
   "metadata": {},
   "outputs": [],
   "source": [
    "# Binning\n",
    "eBins = binning(0,40000,200)\n",
    "\n",
    "# Get binned tritium spectrum from function in separate file and normalize\n",
    "Epae = 0 # Energy is shifted by 10keV due to post acceleration electrode\n",
    "specTrit = diffspec_mixed_binned(eBins.edges-Epae)\n",
    "specTrit = specTrit/specTrit.sum()\n",
    "\n",
    "# Plot\n",
    "plt.step(eBins.centers, specTrit)\n",
    "pi.plotty()"
   ]
  },
  {
   "cell_type": "markdown",
   "metadata": {},
   "source": [
    "### Example: Charge sharing response"
   ]
  },
  {
   "cell_type": "code",
   "execution_count": null,
   "metadata": {},
   "outputs": [],
   "source": [
    "# Get response matrix\n",
    "resp = calculate_cs_response(20e-6,1e-3,1e-10,eBins,eBins)\n",
    "\n",
    "# Plot of the response matrix\n",
    "plt.imshow(resp, norm=colors.SymLogNorm(1e-3,base=10))\n",
    "plt.colorbar()\n",
    "pi.plotty()"
   ]
  },
  {
   "cell_type": "code",
   "execution_count": null,
   "metadata": {},
   "outputs": [],
   "source": [
    "# Generate Monoenergetic spectra, convolve and plot\n",
    "for i in range(19,eBins.nbin,19):\n",
    "    specMono = np.zeros(eBins.nbin)\n",
    "    specMono[i] = 1\n",
    "    \n",
    "    # convolve\n",
    "    convMono = np.dot(resp.T,specMono)\n",
    "    \n",
    "    pi.plot_hist(eBins, specMono, color=f'C{i}')\n",
    "    pi.plot_hist(eBins, convMono, color=f'C{i}',alpha=0.2, outline=False)\n",
    "    \n",
    "pi.plotty(log='y')"
   ]
  },
  {
   "cell_type": "code",
   "execution_count": null,
   "metadata": {},
   "outputs": [],
   "source": [
    "# Convolution for tritium spectrum\n",
    "convTrit = np.dot(resp.T,specTrit)\n",
    "\n",
    "pi.plot_hist(eBins, specTrit, label='before convolution')\n",
    "pi.plot_hist(eBins, convTrit, label='after convolution')\n",
    "pi.plotty()"
   ]
  },
  {
   "cell_type": "markdown",
   "metadata": {},
   "source": [
    "### Add post acceleration"
   ]
  },
  {
   "cell_type": "code",
   "execution_count": null,
   "metadata": {},
   "outputs": [],
   "source": [
    "Epae = 10000 # Energy is shifted by 10keV due to post acceleration electrode\n",
    "specTrit = diffspec_mixed_binned(eBins.edges-Epae)\n",
    "specTrit = specTrit/specTrit.sum()\n",
    "\n",
    "# Convolution for tritium spectrum\n",
    "convTrit = np.dot(resp.T,specTrit)\n",
    "\n",
    "pi.plot_hist(eBins, specTrit, label='before convolution')\n",
    "pi.plot_hist(eBins, convTrit, label='after convolution')\n",
    "pi.plotty()"
   ]
  }
 ],
 "metadata": {
  "kernelspec": {
   "display_name": "Python 3 (ipykernel)",
   "language": "python",
   "name": "python3"
  },
  "language_info": {
   "codemirror_mode": {
    "name": "ipython",
    "version": 3
   },
   "file_extension": ".py",
   "mimetype": "text/x-python",
   "name": "python",
   "nbconvert_exporter": "python",
   "pygments_lexer": "ipython3",
   "version": "3.8.10"
  }
 },
 "nbformat": 4,
 "nbformat_minor": 4
}
